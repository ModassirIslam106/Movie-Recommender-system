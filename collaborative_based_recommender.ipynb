{
 "cells": [
  {
   "cell_type": "code",
   "execution_count": 7,
   "id": "037409ef",
   "metadata": {},
   "outputs": [],
   "source": [
    "import pandas as pd\n",
    "import numpy as np"
   ]
  },
  {
   "cell_type": "code",
   "execution_count": 8,
   "id": "e868e297",
   "metadata": {},
   "outputs": [],
   "source": [
    "ratings = pd.read_csv(\"ratings.csv\")   # columns: userId,movieId,rating,timestamp\n",
    "movies = pd.read_csv(\"movies.csv\")     # columns: movieId,title,genres"
   ]
  },
  {
   "cell_type": "code",
   "execution_count": 10,
   "id": "f9c71a37",
   "metadata": {},
   "outputs": [],
   "source": [
    "# Merge ratings with movie titles \n",
    "data = pd.merge(ratings, movies, on=\"movieId\")\n",
    "data = data[['userId', 'movieId', 'title', 'rating']]"
   ]
  },
  {
   "cell_type": "code",
   "execution_count": 11,
   "id": "814c92a8",
   "metadata": {},
   "outputs": [],
   "source": [
    "# Create user-item rating matrix \n",
    "user_item_matrix = data.pivot_table(index='userId', columns='title', values='rating')"
   ]
  },
  {
   "cell_type": "code",
   "execution_count": null,
   "id": "92ee7f02",
   "metadata": {},
   "outputs": [],
   "source": []
  },
  {
   "cell_type": "code",
   "execution_count": null,
   "id": "10b398bd",
   "metadata": {},
   "outputs": [],
   "source": []
  },
  {
   "cell_type": "code",
   "execution_count": null,
   "id": "911bfaa5",
   "metadata": {},
   "outputs": [],
   "source": []
  }
 ],
 "metadata": {
  "kernelspec": {
   "display_name": "Python 3",
   "language": "python",
   "name": "python3"
  },
  "language_info": {
   "codemirror_mode": {
    "name": "ipython",
    "version": 3
   },
   "file_extension": ".py",
   "mimetype": "text/x-python",
   "name": "python",
   "nbconvert_exporter": "python",
   "pygments_lexer": "ipython3",
   "version": "3.9.23"
  }
 },
 "nbformat": 4,
 "nbformat_minor": 5
}
